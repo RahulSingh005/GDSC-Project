{
 "cells": [
  {
   "cell_type": "code",
   "execution_count": 1,
   "id": "c6cf3e39-31a0-41b6-9c4e-b12d34d57726",
   "metadata": {},
   "outputs": [],
   "source": [
    "import os\n",
    "import pandas as pd\n",
    "import numpy as np\n",
    "from scipy.io import wavfile\n",
    "from sklearn.model_selection import train_test_split\n",
    "from sklearn.preprocessing import LabelEncoder\n",
    "from tensorflow.keras.utils import to_categorical\n",
    "from tensorflow.keras.models import Sequential\n",
    "from tensorflow.keras.layers import LSTM, Dense\n",
    "import python_speech_features as psf\n",
    "import matplotlib.pyplot as plt"
   ]
  },
  {
   "cell_type": "code",
   "execution_count": 2,
   "id": "63112a7f-c357-4d4f-b1f0-914ba25e0274",
   "metadata": {},
   "outputs": [],
   "source": [
    "voice_commands_dir = r'C:\\Users\\hp\\Desktop\\Handless Chess\\voice_commands'\n",
    "metadata_path = r'C:\\Users\\hp\\Desktop\\Handless Chess\\metadata.csv'"
   ]
  },
  {
   "cell_type": "code",
   "execution_count": 3,
   "id": "5e13a533-fdc3-4105-b537-15d2f3a274e2",
   "metadata": {},
   "outputs": [],
   "source": [
    "metadata = pd.read_csv(metadata_path)"
   ]
  },
  {
   "cell_type": "code",
   "execution_count": 4,
   "id": "49f2c769-25f4-4781-bb63-48007b877a81",
   "metadata": {},
   "outputs": [],
   "source": [
    "X = []\n",
    "y = []"
   ]
  },
  {
   "cell_type": "code",
   "execution_count": 5,
   "id": "e297e6d0-d0a5-4134-8cf0-dff5116c878c",
   "metadata": {},
   "outputs": [],
   "source": [
    "max_len = 100\n",
    "\n",
    "for index, row in metadata.iterrows():\n",
    "    file_path = os.path.join(voice_commands_dir, row['filename'])\n",
    "    try:\n",
    "        # Check if the file exists and is a valid file\n",
    "        if not os.path.isfile(file_path):\n",
    "            print(f\"File not found: {file_path}\")\n",
    "            continue\n",
    "\n",
    "        # Load audio file\n",
    "        sample_rate, audio = wavfile.read(file_path)\n",
    "\n",
    "        # Ensure audio data is not empty\n",
    "        if len(audio) == 0:\n",
    "            print(f\"Empty audio data: {file_path}\")\n",
    "            continue\n",
    "\n",
    "        # Extract MFCC features with a larger NFFT size\n",
    "        mfccs = psf.mfcc(audio, samplerate=sample_rate, numcep=40, nfft=2048)\n",
    "\n",
    "        # Pad MFCC features to a fixed length\n",
    "        if mfccs.shape[0] < max_len:\n",
    "            mfccs = np.pad(mfccs, ((0, max_len - mfccs.shape[0]), (0, 0)), mode='constant')\n",
    "        else:\n",
    "            mfccs = mfccs[:max_len]\n",
    "\n",
    "        # Flatten the MFCCs to a single vector\n",
    "        mfccs_processed = mfccs.flatten()\n",
    "\n",
    "        # Append features and labels\n",
    "        X.append(mfccs_processed)\n",
    "        y.append(row['command'])\n",
    "    except Exception as e:\n",
    "        print(f\"Error encountered while parsing file: {file_path}\\n{str(e)}\")\n",
    "        continue"
   ]
  },
  {
   "cell_type": "code",
   "execution_count": 6,
   "id": "2b26f1ba-c002-4267-8008-fe67e656319c",
   "metadata": {},
   "outputs": [],
   "source": [
    "X = np.array(X)\n",
    "y = np.array(y)"
   ]
  },
  {
   "cell_type": "code",
   "execution_count": 7,
   "id": "602850cc-372a-4bdf-ae27-77e38736d9be",
   "metadata": {},
   "outputs": [],
   "source": [
    "le = LabelEncoder()\n",
    "y_encoded = le.fit_transform(y)\n",
    "y_onehot = to_categorical(y_encoded)\n",
    "\n",
    "# Train-test split\n",
    "X_train, X_test, y_train, y_test = train_test_split(X, y_onehot, test_size=0.2, random_state=42)\n",
    "\n",
    "# Reshape data for LSTM layer\n",
    "X_train = np.reshape(X_train, (X_train.shape[0], max_len, -1))\n",
    "X_test = np.reshape(X_test, (X_test.shape[0], max_len, -1))"
   ]
  },
  {
   "cell_type": "code",
   "execution_count": 8,
   "id": "1bb73a33-fcdf-4f95-a45b-bcf394045e84",
   "metadata": {},
   "outputs": [
    {
     "name": "stderr",
     "output_type": "stream",
     "text": [
      "E:\\ANACONDA\\Lib\\site-packages\\keras\\src\\layers\\rnn\\rnn.py:204: UserWarning: Do not pass an `input_shape`/`input_dim` argument to a layer. When using Sequential models, prefer using an `Input(shape)` object as the first layer in the model instead.\n",
      "  super().__init__(**kwargs)\n"
     ]
    },
    {
     "name": "stdout",
     "output_type": "stream",
     "text": [
      "Epoch 1/50\n",
      "\u001b[1m15/15\u001b[0m \u001b[32m━━━━━━━━━━━━━━━━━━━━\u001b[0m\u001b[37m\u001b[0m \u001b[1m7s\u001b[0m 132ms/step - accuracy: 0.0565 - loss: 4.5052 - val_accuracy: 0.1000 - val_loss: 4.4529\n",
      "Epoch 2/50\n",
      "\u001b[1m15/15\u001b[0m \u001b[32m━━━━━━━━━━━━━━━━━━━━\u001b[0m\u001b[37m\u001b[0m \u001b[1m1s\u001b[0m 90ms/step - accuracy: 0.2770 - loss: 4.2446 - val_accuracy: 0.1333 - val_loss: 4.3687\n",
      "Epoch 3/50\n",
      "\u001b[1m15/15\u001b[0m \u001b[32m━━━━━━━━━━━━━━━━━━━━\u001b[0m\u001b[37m\u001b[0m \u001b[1m1s\u001b[0m 94ms/step - accuracy: 0.4556 - loss: 3.8983 - val_accuracy: 0.1667 - val_loss: 4.3122\n",
      "Epoch 4/50\n",
      "\u001b[1m15/15\u001b[0m \u001b[32m━━━━━━━━━━━━━━━━━━━━\u001b[0m\u001b[37m\u001b[0m \u001b[1m1s\u001b[0m 92ms/step - accuracy: 0.4865 - loss: 3.5125 - val_accuracy: 0.2000 - val_loss: 4.2925\n",
      "Epoch 5/50\n",
      "\u001b[1m15/15\u001b[0m \u001b[32m━━━━━━━━━━━━━━━━━━━━\u001b[0m\u001b[37m\u001b[0m \u001b[1m1s\u001b[0m 87ms/step - accuracy: 0.5913 - loss: 3.0373 - val_accuracy: 0.2000 - val_loss: 4.2816\n",
      "Epoch 6/50\n",
      "\u001b[1m15/15\u001b[0m \u001b[32m━━━━━━━━━━━━━━━━━━━━\u001b[0m\u001b[37m\u001b[0m \u001b[1m1s\u001b[0m 90ms/step - accuracy: 0.7026 - loss: 2.2252 - val_accuracy: 0.2667 - val_loss: 4.3535\n",
      "Epoch 7/50\n",
      "\u001b[1m15/15\u001b[0m \u001b[32m━━━━━━━━━━━━━━━━━━━━\u001b[0m\u001b[37m\u001b[0m \u001b[1m1s\u001b[0m 87ms/step - accuracy: 0.8198 - loss: 1.7857 - val_accuracy: 0.3333 - val_loss: 4.3404\n",
      "Epoch 8/50\n",
      "\u001b[1m15/15\u001b[0m \u001b[32m━━━━━━━━━━━━━━━━━━━━\u001b[0m\u001b[37m\u001b[0m \u001b[1m1s\u001b[0m 90ms/step - accuracy: 0.7891 - loss: 1.4494 - val_accuracy: 0.4667 - val_loss: 4.0616\n",
      "Epoch 9/50\n",
      "\u001b[1m15/15\u001b[0m \u001b[32m━━━━━━━━━━━━━━━━━━━━\u001b[0m\u001b[37m\u001b[0m \u001b[1m1s\u001b[0m 87ms/step - accuracy: 0.8852 - loss: 1.0700 - val_accuracy: 0.5333 - val_loss: 4.0959\n",
      "Epoch 10/50\n",
      "\u001b[1m15/15\u001b[0m \u001b[32m━━━━━━━━━━━━━━━━━━━━\u001b[0m\u001b[37m\u001b[0m \u001b[1m1s\u001b[0m 88ms/step - accuracy: 0.9769 - loss: 0.6990 - val_accuracy: 0.5333 - val_loss: 3.9018\n",
      "Epoch 11/50\n",
      "\u001b[1m15/15\u001b[0m \u001b[32m━━━━━━━━━━━━━━━━━━━━\u001b[0m\u001b[37m\u001b[0m \u001b[1m1s\u001b[0m 93ms/step - accuracy: 0.9948 - loss: 0.6310 - val_accuracy: 0.5667 - val_loss: 3.8197\n",
      "Epoch 12/50\n",
      "\u001b[1m15/15\u001b[0m \u001b[32m━━━━━━━━━━━━━━━━━━━━\u001b[0m\u001b[37m\u001b[0m \u001b[1m1s\u001b[0m 90ms/step - accuracy: 0.9670 - loss: 0.4682 - val_accuracy: 0.5333 - val_loss: 4.0143\n",
      "Epoch 13/50\n",
      "\u001b[1m15/15\u001b[0m \u001b[32m━━━━━━━━━━━━━━━━━━━━\u001b[0m\u001b[37m\u001b[0m \u001b[1m1s\u001b[0m 88ms/step - accuracy: 0.9879 - loss: 0.3374 - val_accuracy: 0.5667 - val_loss: 3.9751\n",
      "Epoch 14/50\n",
      "\u001b[1m15/15\u001b[0m \u001b[32m━━━━━━━━━━━━━━━━━━━━\u001b[0m\u001b[37m\u001b[0m \u001b[1m1s\u001b[0m 94ms/step - accuracy: 1.0000 - loss: 0.2408 - val_accuracy: 0.5667 - val_loss: 4.0001\n",
      "Epoch 15/50\n",
      "\u001b[1m15/15\u001b[0m \u001b[32m━━━━━━━━━━━━━━━━━━━━\u001b[0m\u001b[37m\u001b[0m \u001b[1m1s\u001b[0m 95ms/step - accuracy: 1.0000 - loss: 0.1784 - val_accuracy: 0.5667 - val_loss: 4.0598\n",
      "Epoch 16/50\n",
      "\u001b[1m15/15\u001b[0m \u001b[32m━━━━━━━━━━━━━━━━━━━━\u001b[0m\u001b[37m\u001b[0m \u001b[1m1s\u001b[0m 90ms/step - accuracy: 1.0000 - loss: 0.1305 - val_accuracy: 0.5667 - val_loss: 4.0616\n",
      "Epoch 17/50\n",
      "\u001b[1m15/15\u001b[0m \u001b[32m━━━━━━━━━━━━━━━━━━━━\u001b[0m\u001b[37m\u001b[0m \u001b[1m1s\u001b[0m 84ms/step - accuracy: 1.0000 - loss: 0.1039 - val_accuracy: 0.5667 - val_loss: 4.0980\n",
      "Epoch 18/50\n",
      "\u001b[1m15/15\u001b[0m \u001b[32m━━━━━━━━━━━━━━━━━━━━\u001b[0m\u001b[37m\u001b[0m \u001b[1m1s\u001b[0m 84ms/step - accuracy: 1.0000 - loss: 0.0832 - val_accuracy: 0.5667 - val_loss: 4.0963\n",
      "Epoch 19/50\n",
      "\u001b[1m15/15\u001b[0m \u001b[32m━━━━━━━━━━━━━━━━━━━━\u001b[0m\u001b[37m\u001b[0m \u001b[1m1s\u001b[0m 80ms/step - accuracy: 1.0000 - loss: 0.0705 - val_accuracy: 0.5667 - val_loss: 4.1069\n",
      "Epoch 20/50\n",
      "\u001b[1m15/15\u001b[0m \u001b[32m━━━━━━━━━━━━━━━━━━━━\u001b[0m\u001b[37m\u001b[0m \u001b[1m1s\u001b[0m 81ms/step - accuracy: 1.0000 - loss: 0.0657 - val_accuracy: 0.5667 - val_loss: 4.2057\n",
      "Epoch 21/50\n",
      "\u001b[1m15/15\u001b[0m \u001b[32m━━━━━━━━━━━━━━━━━━━━\u001b[0m\u001b[37m\u001b[0m \u001b[1m1s\u001b[0m 80ms/step - accuracy: 1.0000 - loss: 0.0572 - val_accuracy: 0.5667 - val_loss: 4.1950\n",
      "Epoch 22/50\n",
      "\u001b[1m15/15\u001b[0m \u001b[32m━━━━━━━━━━━━━━━━━━━━\u001b[0m\u001b[37m\u001b[0m \u001b[1m1s\u001b[0m 88ms/step - accuracy: 1.0000 - loss: 0.0444 - val_accuracy: 0.5667 - val_loss: 4.2160\n",
      "Epoch 23/50\n",
      "\u001b[1m15/15\u001b[0m \u001b[32m━━━━━━━━━━━━━━━━━━━━\u001b[0m\u001b[37m\u001b[0m \u001b[1m1s\u001b[0m 83ms/step - accuracy: 1.0000 - loss: 0.0472 - val_accuracy: 0.5667 - val_loss: 4.2556\n",
      "Epoch 24/50\n",
      "\u001b[1m15/15\u001b[0m \u001b[32m━━━━━━━━━━━━━━━━━━━━\u001b[0m\u001b[37m\u001b[0m \u001b[1m1s\u001b[0m 77ms/step - accuracy: 1.0000 - loss: 0.0415 - val_accuracy: 0.5667 - val_loss: 4.2490\n",
      "Epoch 25/50\n",
      "\u001b[1m15/15\u001b[0m \u001b[32m━━━━━━━━━━━━━━━━━━━━\u001b[0m\u001b[37m\u001b[0m \u001b[1m1s\u001b[0m 80ms/step - accuracy: 1.0000 - loss: 0.0362 - val_accuracy: 0.5667 - val_loss: 4.2647\n",
      "Epoch 26/50\n",
      "\u001b[1m15/15\u001b[0m \u001b[32m━━━━━━━━━━━━━━━━━━━━\u001b[0m\u001b[37m\u001b[0m \u001b[1m1s\u001b[0m 76ms/step - accuracy: 1.0000 - loss: 0.0303 - val_accuracy: 0.5667 - val_loss: 4.2807\n",
      "Epoch 27/50\n",
      "\u001b[1m15/15\u001b[0m \u001b[32m━━━━━━━━━━━━━━━━━━━━\u001b[0m\u001b[37m\u001b[0m \u001b[1m1s\u001b[0m 78ms/step - accuracy: 1.0000 - loss: 0.0291 - val_accuracy: 0.5667 - val_loss: 4.3055\n",
      "Epoch 28/50\n",
      "\u001b[1m15/15\u001b[0m \u001b[32m━━━━━━━━━━━━━━━━━━━━\u001b[0m\u001b[37m\u001b[0m \u001b[1m1s\u001b[0m 81ms/step - accuracy: 1.0000 - loss: 0.0261 - val_accuracy: 0.5667 - val_loss: 4.3139\n",
      "Epoch 29/50\n",
      "\u001b[1m15/15\u001b[0m \u001b[32m━━━━━━━━━━━━━━━━━━━━\u001b[0m\u001b[37m\u001b[0m \u001b[1m1s\u001b[0m 81ms/step - accuracy: 1.0000 - loss: 0.0253 - val_accuracy: 0.5667 - val_loss: 4.3276\n",
      "Epoch 30/50\n",
      "\u001b[1m15/15\u001b[0m \u001b[32m━━━━━━━━━━━━━━━━━━━━\u001b[0m\u001b[37m\u001b[0m \u001b[1m1s\u001b[0m 78ms/step - accuracy: 1.0000 - loss: 0.0246 - val_accuracy: 0.5667 - val_loss: 4.3473\n",
      "Epoch 31/50\n",
      "\u001b[1m15/15\u001b[0m \u001b[32m━━━━━━━━━━━━━━━━━━━━\u001b[0m\u001b[37m\u001b[0m \u001b[1m1s\u001b[0m 87ms/step - accuracy: 1.0000 - loss: 0.0228 - val_accuracy: 0.5667 - val_loss: 4.3577\n",
      "Epoch 32/50\n",
      "\u001b[1m15/15\u001b[0m \u001b[32m━━━━━━━━━━━━━━━━━━━━\u001b[0m\u001b[37m\u001b[0m \u001b[1m1s\u001b[0m 83ms/step - accuracy: 1.0000 - loss: 0.0198 - val_accuracy: 0.5667 - val_loss: 4.3714\n",
      "Epoch 33/50\n",
      "\u001b[1m15/15\u001b[0m \u001b[32m━━━━━━━━━━━━━━━━━━━━\u001b[0m\u001b[37m\u001b[0m \u001b[1m1s\u001b[0m 78ms/step - accuracy: 1.0000 - loss: 0.0185 - val_accuracy: 0.5667 - val_loss: 4.3770\n",
      "Epoch 34/50\n",
      "\u001b[1m15/15\u001b[0m \u001b[32m━━━━━━━━━━━━━━━━━━━━\u001b[0m\u001b[37m\u001b[0m \u001b[1m1s\u001b[0m 89ms/step - accuracy: 1.0000 - loss: 0.0182 - val_accuracy: 0.5667 - val_loss: 4.3890\n",
      "Epoch 35/50\n",
      "\u001b[1m15/15\u001b[0m \u001b[32m━━━━━━━━━━━━━━━━━━━━\u001b[0m\u001b[37m\u001b[0m \u001b[1m1s\u001b[0m 83ms/step - accuracy: 1.0000 - loss: 0.0167 - val_accuracy: 0.5667 - val_loss: 4.3987\n",
      "Epoch 36/50\n",
      "\u001b[1m15/15\u001b[0m \u001b[32m━━━━━━━━━━━━━━━━━━━━\u001b[0m\u001b[37m\u001b[0m \u001b[1m1s\u001b[0m 80ms/step - accuracy: 1.0000 - loss: 0.0154 - val_accuracy: 0.5667 - val_loss: 4.4077\n",
      "Epoch 37/50\n",
      "\u001b[1m15/15\u001b[0m \u001b[32m━━━━━━━━━━━━━━━━━━━━\u001b[0m\u001b[37m\u001b[0m \u001b[1m1s\u001b[0m 81ms/step - accuracy: 1.0000 - loss: 0.0147 - val_accuracy: 0.5667 - val_loss: 4.4134\n",
      "Epoch 38/50\n",
      "\u001b[1m15/15\u001b[0m \u001b[32m━━━━━━━━━━━━━━━━━━━━\u001b[0m\u001b[37m\u001b[0m \u001b[1m1s\u001b[0m 78ms/step - accuracy: 1.0000 - loss: 0.0144 - val_accuracy: 0.5667 - val_loss: 4.4217\n",
      "Epoch 39/50\n",
      "\u001b[1m15/15\u001b[0m \u001b[32m━━━━━━━━━━━━━━━━━━━━\u001b[0m\u001b[37m\u001b[0m \u001b[1m1s\u001b[0m 78ms/step - accuracy: 1.0000 - loss: 0.0145 - val_accuracy: 0.5667 - val_loss: 4.4298\n",
      "Epoch 40/50\n",
      "\u001b[1m15/15\u001b[0m \u001b[32m━━━━━━━━━━━━━━━━━━━━\u001b[0m\u001b[37m\u001b[0m \u001b[1m1s\u001b[0m 80ms/step - accuracy: 1.0000 - loss: 0.0137 - val_accuracy: 0.5667 - val_loss: 4.4459\n",
      "Epoch 41/50\n",
      "\u001b[1m15/15\u001b[0m \u001b[32m━━━━━━━━━━━━━━━━━━━━\u001b[0m\u001b[37m\u001b[0m \u001b[1m1s\u001b[0m 80ms/step - accuracy: 1.0000 - loss: 0.0132 - val_accuracy: 0.5667 - val_loss: 4.4441\n",
      "Epoch 42/50\n",
      "\u001b[1m15/15\u001b[0m \u001b[32m━━━━━━━━━━━━━━━━━━━━\u001b[0m\u001b[37m\u001b[0m \u001b[1m1s\u001b[0m 82ms/step - accuracy: 1.0000 - loss: 0.0113 - val_accuracy: 0.5667 - val_loss: 4.4553\n",
      "Epoch 43/50\n",
      "\u001b[1m15/15\u001b[0m \u001b[32m━━━━━━━━━━━━━━━━━━━━\u001b[0m\u001b[37m\u001b[0m \u001b[1m1s\u001b[0m 80ms/step - accuracy: 1.0000 - loss: 0.0125 - val_accuracy: 0.5667 - val_loss: 4.4600\n",
      "Epoch 44/50\n",
      "\u001b[1m15/15\u001b[0m \u001b[32m━━━━━━━━━━━━━━━━━━━━\u001b[0m\u001b[37m\u001b[0m \u001b[1m1s\u001b[0m 79ms/step - accuracy: 1.0000 - loss: 0.0114 - val_accuracy: 0.5667 - val_loss: 4.4613\n",
      "Epoch 45/50\n",
      "\u001b[1m15/15\u001b[0m \u001b[32m━━━━━━━━━━━━━━━━━━━━\u001b[0m\u001b[37m\u001b[0m \u001b[1m1s\u001b[0m 82ms/step - accuracy: 1.0000 - loss: 0.0103 - val_accuracy: 0.5667 - val_loss: 4.4708\n",
      "Epoch 46/50\n",
      "\u001b[1m15/15\u001b[0m \u001b[32m━━━━━━━━━━━━━━━━━━━━\u001b[0m\u001b[37m\u001b[0m \u001b[1m1s\u001b[0m 81ms/step - accuracy: 1.0000 - loss: 0.0101 - val_accuracy: 0.5667 - val_loss: 4.4752\n",
      "Epoch 47/50\n",
      "\u001b[1m15/15\u001b[0m \u001b[32m━━━━━━━━━━━━━━━━━━━━\u001b[0m\u001b[37m\u001b[0m \u001b[1m1s\u001b[0m 79ms/step - accuracy: 1.0000 - loss: 0.0095 - val_accuracy: 0.5667 - val_loss: 4.4769\n",
      "Epoch 48/50\n",
      "\u001b[1m15/15\u001b[0m \u001b[32m━━━━━━━━━━━━━━━━━━━━\u001b[0m\u001b[37m\u001b[0m \u001b[1m1s\u001b[0m 83ms/step - accuracy: 1.0000 - loss: 0.0086 - val_accuracy: 0.5667 - val_loss: 4.4878\n",
      "Epoch 49/50\n",
      "\u001b[1m15/15\u001b[0m \u001b[32m━━━━━━━━━━━━━━━━━━━━\u001b[0m\u001b[37m\u001b[0m \u001b[1m1s\u001b[0m 82ms/step - accuracy: 1.0000 - loss: 0.0088 - val_accuracy: 0.5667 - val_loss: 4.4885\n",
      "Epoch 50/50\n",
      "\u001b[1m15/15\u001b[0m \u001b[32m━━━━━━━━━━━━━━━━━━━━\u001b[0m\u001b[37m\u001b[0m \u001b[1m1s\u001b[0m 83ms/step - accuracy: 1.0000 - loss: 0.0086 - val_accuracy: 0.5667 - val_loss: 4.4979\n"
     ]
    }
   ],
   "source": [
    "model = Sequential()\n",
    "model.add(LSTM(128, input_shape=(X_train.shape[1], X_train.shape[2]), return_sequences=True))\n",
    "model.add(LSTM(64))\n",
    "model.add(Dense(64, activation='relu'))\n",
    "model.add(Dense(len(le.classes_), activation='softmax'))\n",
    "\n",
    "# Compile the model\n",
    "model.compile(optimizer='adam', loss='categorical_crossentropy', metrics=['accuracy'])\n",
    "\n",
    "# Train the model\n",
    "history = model.fit(X_train, y_train, epochs=50, batch_size=8, validation_split=0.2)"
   ]
  },
  {
   "cell_type": "code",
   "execution_count": 9,
   "id": "453120e8-0e37-420e-b575-298cf7e87d43",
   "metadata": {},
   "outputs": [
    {
     "name": "stdout",
     "output_type": "stream",
     "text": [
      "\u001b[1m2/2\u001b[0m \u001b[32m━━━━━━━━━━━━━━━━━━━━\u001b[0m\u001b[37m\u001b[0m \u001b[1m0s\u001b[0m 42ms/step - accuracy: 0.7545 - loss: 2.6786\n",
      "Test Accuracy: 75.68%\n"
     ]
    },
    {
     "data": {
      "text/plain": [
       "<Figure size 1200x400 with 0 Axes>"
      ]
     },
     "execution_count": 9,
     "metadata": {},
     "output_type": "execute_result"
    },
    {
     "data": {
      "text/plain": [
       "<Figure size 1200x400 with 0 Axes>"
      ]
     },
     "metadata": {},
     "output_type": "display_data"
    }
   ],
   "source": [
    "loss, accuracy = model.evaluate(X_test, y_test)\n",
    "print(f\"Test Accuracy: {accuracy * 100:.2f}%\")\n",
    "\n",
    "# Plot training history\n",
    "plt.figure(figsize=(12, 4))"
   ]
  },
  {
   "cell_type": "code",
   "execution_count": 10,
   "id": "26e7c87c-0430-4763-b269-b7bb2b693786",
   "metadata": {},
   "outputs": [
    {
     "data": {
      "text/plain": [
       "<matplotlib.legend.Legend at 0x20ed36cbdd0>"
      ]
     },
     "execution_count": 10,
     "metadata": {},
     "output_type": "execute_result"
    },
    {
     "data": {
      "image/png": "[encoded data removed]",
      "text/plain": [
       "<Figure size 640x480 with 1 Axes>"
      ]
     },
     "metadata": {},
     "output_type": "display_data"
    }
   ],
   "source": [
    "plt.subplot(1, 2, 1)\n",
    "plt.plot(history.history['accuracy'])\n",
    "plt.plot(history.history['val_accuracy'])\n",
    "plt.title('Model accuracy')\n",
    "plt.ylabel('Accuracy')\n",
    "plt.xlabel('Epoch')\n",
    "plt.legend(['Train', 'Validation'], loc='upper left')"
   ]
  },
  {
   "cell_type": "code",
   "execution_count": 11,
   "id": "1c89fc1a-b405-4b95-8a7e-bf391c1c5b19",
   "metadata": {},
   "outputs": [
    {
     "data": {
      "text/plain": [
       "<matplotlib.legend.Legend at 0x20ef81e45d0>"
      ]
     },
     "execution_count": 11,
     "metadata": {},
     "output_type": "execute_result"
    },
    {
     "data": {
      "image/png": "[encoded data removed]",
      "text/plain": [
       "<Figure size 640x480 with 1 Axes>"
      ]
     },
     "metadata": {},
     "output_type": "display_data"
    }
   ],
   "source": [
    "plt.subplot(1, 2, 2)\n",
    "plt.plot(history.history['loss'])\n",
    "plt.plot(history.history['val_loss'])\n",
    "plt.title('Model loss')\n",
    "plt.ylabel('Loss')\n",
    "plt.xlabel('Epoch')\n",
    "plt.legend(['Train', 'Validation'], loc='upper left')\n"
   ]
  },
  {
   "cell_type": "code",
   "execution_count": 12,
   "id": "df927bf5-b00a-4f81-a7d3-4eabd639acb0",
   "metadata": {},
   "outputs": [
    {
     "name": "stdout",
     "output_type": "stream",
     "text": [
      "\u001b[1m2/2\u001b[0m \u001b[32m━━━━━━━━━━━━━━━━━━━━\u001b[0m\u001b[37m\u001b[0m \u001b[1m1s\u001b[0m 472ms/step\n",
      "Predicted: E7 to E8 Knight, Actual: King E1 to D1\n",
      "Predicted: Pawn C2 to C3, Actual: Pawn C2 to C3\n",
      "Predicted: Queen D8 to G5, Actual: Queen D8 to G5\n",
      "Predicted: E7 to E8 Knight, Actual: King E1 to D1\n",
      "Predicted: E7 to E8 Knight, Actual: Queen D1 to D3\n",
      "Predicted: E7 to E8 Bishop, Actual: E7 to E8 Bishop\n",
      "Predicted: Queen D8 to G5, Actual: King E8 to D8\n",
      "Predicted: Rook A1 to A3, Actual: Rook A1 to A3\n",
      "Predicted: King E8 to D8, Actual: King E8 to D8\n",
      "Predicted: Bishop C8 to E3, Actual: Bishop C8 to E3\n",
      "Predicted: Bishop C8 to E2, Actual: Bishop C8 to E2\n",
      "Predicted: Rook A1 to E1, Actual: Rook A1 to E1\n",
      "Predicted: Rook A1 to D1, Actual: Rook A1 to D1\n",
      "Predicted: Pawn H2 to H4, Actual: Bishop F1 to A6\n",
      "Predicted: Pawn D2 to D4, Actual: Pawn D2 to D4\n",
      "Predicted: E7 to E8 Knight, Actual: E7 to E8 Knight\n",
      "Predicted: Pawn G2 to G4, Actual: Pawn G2 to G4\n",
      "Predicted: Knight G1 to H3, Actual: Knight G1 to H3\n",
      "Predicted: Pawn H2 to H4, Actual: Bishop F1 to A6\n",
      "Predicted: E7 to E8 Knight, Actual: Queen D1 to D3\n",
      "Predicted: Rook A8 to D8, Actual: Rook A8 to D8\n",
      "Predicted: Knight B8 to C6, Actual: Knight B8 to C6\n",
      "Predicted: Pawn E5 captures D4, Actual: Pawn E5 captures D4\n",
      "Predicted: Knight B1 to C3, Actual: Knight B1 to C3\n",
      "Predicted: Bishop C8 to H6, Actual: Bishop C8 to H6\n",
      "Predicted: Knight G1 to F3, Actual: Knight G1 to F3\n",
      "Predicted: Queen D1 to H5, Actual: Queen D1 to H5\n",
      "Predicted: E7 to E8 Rook, Actual: E7 to E8 Rook\n",
      "Predicted: Rook H1 to H3, Actual: Rook H1 to H3\n",
      "Predicted: Bishop F8 to B5, Actual: King E1 to D2\n",
      "Predicted: Rook H1 to D1, Actual: Rook H1 to D1\n",
      "Predicted: Queen D1 captures H7, Actual: Queen D1 captures H7\n",
      "Predicted: King E8 to F7, Actual: King E8 to F7\n",
      "Predicted: Pawn C2 to C4, Actual: Pawn C2 to C4\n",
      "Predicted: Queen E1 to E2, Actual: Queen E1 to E2\n",
      "Predicted: Queen D1 to G4, Actual: Knight B1 to A3\n",
      "Predicted: Bishop F1 to B5, Actual: Bishop F1 to B5\n"
     ]
    }
   ],
   "source": [
    "y_pred = model.predict(X_test)\n",
    "y_pred_classes = np.argmax(y_pred, axis=1)\n",
    "y_test_classes = np.argmax(y_test, axis=1)\n",
    "\n",
    "# Decode the classes to actual commands\n",
    "y_pred_commands = le.inverse_transform(y_pred_classes)\n",
    "y_test_commands = le.inverse_transform(y_test_classes)\n",
    "\n",
    "# Display predicted and actual commands\n",
    "for i in range(len(y_test_commands)):\n",
    "    print(f\"Predicted: {y_pred_commands[i]}, Actual: {y_test_commands[i]}\")"
   ]
  },
  {
   "cell_type": "code",
   "execution_count": null,
   "id": "802c283b-8f27-4214-8091-f9ab19d44d1b",
   "metadata": {},
   "outputs": [],
   "source": []
  }
 ],
 "metadata": {
  "kernelspec": {
   "display_name": "Python 3 (ipykernel)",
   "language": "python",
   "name": "python3"
  },
  "language_info": {
   "codemirror_mode": {
    "name": "ipython",
    "version": 3
   },
   "file_extension": ".py",
   "mimetype": "text/x-python",
   "name": "python",
   "nbconvert_exporter": "python",
   "pygments_lexer": "ipython3",
   "version": "3.11.7"
  }
 },
 "nbformat": 4,
 "nbformat_minor": 5
}
