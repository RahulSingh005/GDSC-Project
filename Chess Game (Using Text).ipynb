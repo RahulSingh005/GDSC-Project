{
 "cells": [
  {
   "cell_type": "markdown",
   "id": "49cc56ca-a9fb-4aa2-acf7-979b617cf181",
   "metadata": {},
   "source": [
    "# Creating Chess Board Game"
   ]
  },
  {
   "cell_type": "markdown",
   "id": "f2fff99d-7966-4a87-b3d1-ea00510cbba3",
   "metadata": {},
   "source": [
    "### Function to create chess board"
   ]
  },
  {
   "cell_type": "code",
   "execution_count": 1,
   "id": "5688b3b7-36bf-4983-bb0d-24bb75533276",
   "metadata": {},
   "outputs": [],
   "source": [
    "def chess_board():\n",
    "    board = [\n",
    "        ['R', 'N', 'B', 'Q', 'K', 'B', 'N', 'R'],\n",
    "        ['P', 'P', 'P', 'P', 'P', 'P', 'P', 'P'],\n",
    "        ['.', '.', '.', '.', '.', '.', '.', '.'],\n",
    "        ['.', '.', '.', '.', '.', '.', '.', '.'],\n",
    "        ['.', '.', '.', '.', '.', '.', '.', '.'],\n",
    "        ['.', '.', '.', '.', '.', '.', '.', '.'],\n",
    "        ['p', 'p', 'p', 'p', 'p', 'p', 'p', 'p'],\n",
    "        ['r', 'n', 'b', 'q', 'k', 'b', 'n', 'r']\n",
    "    ]\n",
    "    return board\n",
    "\n",
    "# 'P','p' represent Pawn\n",
    "# 'R','r' represent Rook\n",
    "# 'N','n' represent Knight\n",
    "# 'B','b' represent Bishop\n",
    "# 'Q','q' represent Queen\n",
    "# 'K','k' represent King\n",
    "# '.' represent Empty Positions\n",
    "    \n",
    "# Capital Letters for White Pieces and Small Letters for Black Pieces"
   ]
  },
  {
   "cell_type": "markdown",
   "id": "2538ed59-236b-4aff-8e5f-7385a4424734",
   "metadata": {},
   "source": [
    "### Function to print chess board"
   ]
  },
  {
   "cell_type": "code",
   "execution_count": 2,
   "id": "f738575e-30cf-44e4-b25d-5f102a795418",
   "metadata": {},
   "outputs": [],
   "source": [
    "def print_board(board):\n",
    "    print(\"Chess Board:\")\n",
    "    print(\"  a b c d e f g h\")\n",
    "    for i in range(7, -1, -1):\n",
    "        print(f\"{i+1} {' '.join(board[i])}\")"
   ]
  },
  {
   "cell_type": "code",
   "execution_count": 3,
   "id": "2046a6e9-c079-41d6-b7aa-64b666cab31f",
   "metadata": {},
   "outputs": [
    {
     "name": "stdout",
     "output_type": "stream",
     "text": [
      "Chess Board:\n",
      "  a b c d e f g h\n",
      "8 r n b q k b n r\n",
      "7 p p p p p p p p\n",
      "6 . . . . . . . .\n",
      "5 . . . . . . . .\n",
      "4 . . . . . . . .\n",
      "3 . . . . . . . .\n",
      "2 P P P P P P P P\n",
      "1 R N B Q K B N R\n"
     ]
    }
   ],
   "source": [
    "board=chess_board()\n",
    "print_board(board)"
   ]
  },
  {
   "cell_type": "markdown",
   "id": "4ec9a350-77a9-4096-ae67-109f9f1db66d",
   "metadata": {},
   "source": [
    "### Function to check if move is valid or not"
   ]
  },
  {
   "cell_type": "code",
   "execution_count": 4,
   "id": "3d08023b-1aaf-40fb-b4c1-4d7800f7a95c",
   "metadata": {},
   "outputs": [],
   "source": [
    "def is_valid_move(board, move, current_turn):\n",
    "    start_file = ord(move[0]) - ord('a')\n",
    "    start_rank = int(move[1]) - 1\n",
    "    end_file = ord(move[2]) - ord('a')\n",
    "    end_rank = int(move[3]) - 1\n",
    "    piece = board[start_rank][start_file]\n",
    "    if piece == '.':\n",
    "        return False\n",
    "    piece_color = 'white' if piece.isupper() else 'black'\n",
    "    if (current_turn == 'white' and piece_color != 'white') or (current_turn == 'black' and piece_color != 'black'):\n",
    "        return False\n",
    "    if piece.lower() == 'p':\n",
    "        return is_valid_pawn_move(board, start_file, start_rank, end_file, end_rank, piece_color, current_turn)\n",
    "    elif piece.lower() == 'n':\n",
    "        return is_valid_knight_move(start_file, start_rank, end_file, end_rank)\n",
    "    elif piece.lower() == 'b':\n",
    "        return is_valid_bishop_move(board, start_file, start_rank, end_file, end_rank)\n",
    "    elif piece.lower() == 'r':\n",
    "        return is_valid_rook_move(board, start_file, start_rank, end_file, end_rank)\n",
    "    elif piece.lower() == 'q':\n",
    "        return is_valid_queen_move(board, start_file, start_rank, end_file, end_rank)\n",
    "    elif piece.lower() == 'k':\n",
    "        return is_valid_king_move(start_file, start_rank, end_file, end_rank)\n",
    "    else:\n",
    "        return False"
   ]
  },
  {
   "cell_type": "markdown",
   "id": "f7d30f71-9f97-4f01-b017-f170dd3a3760",
   "metadata": {},
   "source": [
    "### Functions to check if moves are valid for different pieces"
   ]
  },
  {
   "cell_type": "code",
   "execution_count": 5,
   "id": "1932eb2c-a8d1-4f0f-ac01-5d932f1de6d4",
   "metadata": {},
   "outputs": [],
   "source": [
    "def is_valid_pawn_move(board, start_file, start_rank, end_file, end_rank, piece_color, en_passant_target=None):\n",
    "    direction = 1 if piece_color == 'white' else -1\n",
    "    if start_file == end_file and start_rank + direction == end_rank and board[end_rank][end_file] == '.':\n",
    "        return True\n",
    "    if (piece_color == 'white' and start_rank == 1 and end_rank == 3 and start_file == end_file and\n",
    "            board[2][start_file] == '.' and board[3][start_file] == '.'):\n",
    "        return True\n",
    "    elif (piece_color == 'black' and start_rank == 6 and end_rank == 4 and start_file == end_file and\n",
    "          board[5][start_file] == '.' and board[4][start_file] == '.'):\n",
    "        return True\n",
    "\n",
    "    if abs(start_file - end_file) == 1 and start_rank + direction == end_rank:\n",
    "        if board[end_rank][end_file] != '.' and board[end_rank][end_file].islower() and piece_color == 'white':\n",
    "            return True\n",
    "        if board[end_rank][end_file] != '.' and board[end_rank][end_file].isupper() and piece_color == 'black':\n",
    "            return True\n",
    "\n",
    "    if en_passant_target:\n",
    "        if abs(start_file - end_file) == 1 and start_rank + direction == end_rank:\n",
    "            if (piece_color == 'white' and start_rank == 4) or (piece_color == 'black' and start_rank == 3):\n",
    "                if end_file == en_passant_target[0] and end_rank == en_passant_target[1]:\n",
    "                    return True\n",
    "\n",
    "    if piece_color == 'white' and end_rank == 7:\n",
    "        if start_file == end_file and start_rank + direction == end_rank and board[end_rank][end_file] == '.':\n",
    "            return True\n",
    "        if abs(start_file - end_file) == 1 and start_rank + direction == end_rank and board[end_rank][end_file] != '.' and board[end_rank][end_file].islower():\n",
    "            return True\n",
    "    elif piece_color == 'black' and end_rank == 0:\n",
    "        if start_file == end_file and start_rank + direction == end_rank and board[end_rank][end_file] == '.':\n",
    "            return True\n",
    "        if abs(start_file - end_file) == 1 and start_rank + direction == end_rank and board[end_rank][end_file] != '.' and board[end_rank][end_file].isupper():\n",
    "            return True\n",
    "    return False"
   ]
  },
  {
   "cell_type": "code",
   "execution_count": 6,
   "id": "a296016c-1575-48c8-a2e8-c21f23db597f",
   "metadata": {},
   "outputs": [],
   "source": [
    "def is_valid_knight_move(start_file, start_rank, end_file, end_rank):\n",
    "    file_diff = abs(start_file - end_file)\n",
    "    rank_diff = abs(start_rank - end_rank)\n",
    "    if (file_diff == 2 and rank_diff == 1) or (file_diff == 1 and rank_diff == 2):\n",
    "        return True\n",
    "    return False"
   ]
  },
  {
   "cell_type": "code",
   "execution_count": 7,
   "id": "e5d8cbcb-6eed-4abd-9342-c045af4ad4a7",
   "metadata": {},
   "outputs": [],
   "source": [
    "def is_valid_bishop_move(board, start_file, start_rank, end_file, end_rank):\n",
    "    if abs(start_file - end_file) == abs(start_rank - end_rank):\n",
    "        if not is_piece_between(board, start_file, start_rank, end_file, end_rank):\n",
    "            return True\n",
    "    return False"
   ]
  },
  {
   "cell_type": "code",
   "execution_count": 8,
   "id": "65dea933-b6e1-4512-adca-4a4d175d0f63",
   "metadata": {},
   "outputs": [],
   "source": [
    "def is_valid_rook_move(board, start_file, start_rank, end_file, end_rank):\n",
    "    if start_file == end_file or start_rank == end_rank:\n",
    "        if not is_piece_between(board, start_file, start_rank, end_file, end_rank):\n",
    "            return True\n",
    "    return False"
   ]
  },
  {
   "cell_type": "code",
   "execution_count": 9,
   "id": "4ecc532e-98e8-48dd-8003-f23690d6f80a",
   "metadata": {},
   "outputs": [],
   "source": [
    "def is_valid_queen_move(board, start_file, start_rank, end_file, end_rank):\n",
    "    if (start_file == end_file or start_rank == end_rank or\n",
    "        abs(start_file - end_file) == abs(start_rank - end_rank)):\n",
    "        if not is_piece_between(board, start_file, start_rank, end_file, end_rank):\n",
    "            return True\n",
    "    return False"
   ]
  },
  {
   "cell_type": "code",
   "execution_count": 10,
   "id": "0fe9ff15-f616-44a1-a6dd-f9ed826fc214",
   "metadata": {},
   "outputs": [],
   "source": [
    "def is_valid_king_move(start_file, start_rank, end_file, end_rank):\n",
    "    if abs(start_file - end_file) <= 1 and abs(start_rank - end_rank) <= 1:\n",
    "        return True\n",
    "    return False"
   ]
  },
  {
   "cell_type": "markdown",
   "id": "a0b2d7b1-35dd-493f-9746-8ecdb65264a8",
   "metadata": {},
   "source": [
    "### Function to check if there are pieces between what moves we are trying to implement"
   ]
  },
  {
   "cell_type": "code",
   "execution_count": 11,
   "id": "a1a3ed1f-0c74-4c0b-8bad-5cb34bc37255",
   "metadata": {},
   "outputs": [],
   "source": [
    "def is_piece_between(board, start_file, start_rank, end_file, end_rank):\n",
    "    if start_file == end_file:\n",
    "        step = 1 if end_rank > start_rank else -1\n",
    "        for r in range(start_rank + step, end_rank, step):\n",
    "            if board[r][start_file] != '.':\n",
    "                return True\n",
    "    elif start_rank == end_rank:\n",
    "        step = 1 if end_file > start_file else -1\n",
    "        for f in range(start_file + step, end_file, step):\n",
    "            if board[start_rank][f] != '.':\n",
    "                return True\n",
    "    elif abs(start_file - end_file) == abs(start_rank - end_rank):\n",
    "        file_step = 1 if end_file > start_file else -1\n",
    "        rank_step = 1 if end_rank > start_rank else -1\n",
    "        f, r = start_file + file_step, start_rank + rank_step\n",
    "        while f != end_file and r != end_rank:\n",
    "            if board[r][f] != '.':\n",
    "                return True\n",
    "            f += file_step\n",
    "            r += rank_step\n",
    "    return False"
   ]
  },
  {
   "cell_type": "code",
   "execution_count": 12,
   "id": "36dc7676-9beb-47d5-a9ae-60c174f9e847",
   "metadata": {},
   "outputs": [],
   "source": [
    "def is_check(board, color):\n",
    "    king_pos = find_king(board, color)\n",
    "    if king_pos is None:\n",
    "        return False\n",
    "    for r in range(8):\n",
    "        for f in range(8):\n",
    "            piece = board[r][f]\n",
    "            if piece != '.' and (piece.isupper() != (color == 'white')):\n",
    "                if is_valid_attack(board, r, f, king_pos[0], king_pos[1], color):\n",
    "                    return True\n",
    "    return False"
   ]
  },
  {
   "cell_type": "markdown",
   "id": "fb5eab4e-8e89-4cca-9846-aad621ee01e7",
   "metadata": {},
   "source": [
    "### Function to check if it is valid attack or not"
   ]
  },
  {
   "cell_type": "code",
   "execution_count": 13,
   "id": "aeb615d0-ecd2-4b9b-8039-8a331bc94905",
   "metadata": {},
   "outputs": [],
   "source": [
    "def is_valid_attack(board, start_rank, start_file, end_rank, end_file, color):\n",
    "    piece = board[start_rank][start_file]\n",
    "    if piece.lower() == 'p':\n",
    "        return is_valid_pawn_move(board, start_file, start_rank, end_file, end_rank, color, color)\n",
    "    elif piece.lower() == 'n':\n",
    "        return is_valid_knight_move(start_file, start_rank, end_file, end_rank)\n",
    "    elif piece.lower() == 'b':\n",
    "        return is_valid_bishop_move(board, start_file, start_rank, end_file, end_rank)\n",
    "    elif piece.lower() == 'r':\n",
    "        return is_valid_rook_move(board, start_file, start_rank, end_file, end_rank)\n",
    "    elif piece.lower() == 'q':\n",
    "        return is_valid_queen_move(board, start_file, start_rank, end_file, end_rank)\n",
    "    elif piece.lower() == 'k':\n",
    "        return is_valid_king_move(start_file, start_rank, end_file, end_rank)\n",
    "    else:\n",
    "        return False"
   ]
  },
  {
   "cell_type": "markdown",
   "id": "23e67a2c-8014-4e48-b39e-a4f7ead2e73b",
   "metadata": {},
   "source": [
    "### Function to find king"
   ]
  },
  {
   "cell_type": "code",
   "execution_count": 14,
   "id": "f67fc672-9348-4f19-9881-4f92af58c134",
   "metadata": {},
   "outputs": [],
   "source": [
    "def find_king(board, color):\n",
    "    for r in range(8):\n",
    "        for f in range(8):\n",
    "            if board[r][f] == ('K' if color == 'white' else 'k'):\n",
    "                return (r, f)\n",
    "    return None"
   ]
  },
  {
   "cell_type": "code",
   "execution_count": 15,
   "id": "8eadc03b-a543-4d22-adfc-3d7109465535",
   "metadata": {},
   "outputs": [],
   "source": [
    "def is_checkmate(board, current_turn):\n",
    "    if not is_check(board, current_turn):\n",
    "        return False\n",
    "    for r_start in range(8):\n",
    "        for f_start in range(8):\n",
    "            if board[r_start][f_start] != '.' and board[r_start][f_start].isupper() == (current_turn == 'white'):\n",
    "                piece = board[r_start][f_start]\n",
    "                for r_end in range(8):\n",
    "                    for f_end in range(8):\n",
    "                        move = f'{chr(f_start + ord(\"a\"))}{r_start + 1}{chr(f_end + ord(\"a\"))}{r_end + 1}'\n",
    "                        if is_valid_move(board, move, current_turn):\n",
    "                            temp_board = [row[:] for row in board]\n",
    "                            make_move(temp_board, move)\n",
    "                            \n",
    "                            if not is_check(temp_board, current_turn):\n",
    "                                return False\n",
    "    return True"
   ]
  },
  {
   "cell_type": "code",
   "execution_count": 16,
   "id": "b1df1981-cfdb-49b1-b041-04903008c6c4",
   "metadata": {},
   "outputs": [],
   "source": [
    "def make_move(board, move):\n",
    "    start_file = ord(move[0]) - ord('a')\n",
    "    start_rank = int(move[1]) - 1\n",
    "    end_file = ord(move[2]) - ord('a')\n",
    "    end_rank = int(move[3]) - 1\n",
    "\n",
    "    piece = board[start_rank][start_file]\n",
    "    if piece == '.':\n",
    "        return False\n",
    "\n",
    "    if board[end_rank][end_file] != '.':\n",
    "        captured_piece = board[end_rank][end_file]\n",
    "        print(f\"Captured {captured_piece} at {chr(end_file + ord('a'))}{end_rank + 1}\")\n",
    "\n",
    "    board[end_rank][end_file] = board[start_rank][start_file]\n",
    "    board[start_rank][start_file] = '.'\n",
    "\n",
    "    if piece.lower() == 'p' and (end_rank == 0 or end_rank == 7):\n",
    "        promote_choice = input(\"Pawn promotion! Choose Q (Queen), R (Rook), B (Bishop), or N (Knight): \").strip().lower()\n",
    "        while promote_choice not in ['q', 'r', 'b', 'n']:\n",
    "            promote_choice = input(\"Invalid choice. Choose Q (Queen), R (Rook), B (Bishop), or N (Knight): \").strip().lower()\n",
    "\n",
    "        promotion_piece = promote_choice.upper()\n",
    "        board[end_rank][end_file] = promotion_piece\n",
    "\n",
    "    return True"
   ]
  },
  {
   "cell_type": "markdown",
   "id": "191250b9-ea9c-46e1-9682-60343f61242f",
   "metadata": {},
   "source": [
    "### Function to play game"
   ]
  },
  {
   "cell_type": "code",
   "execution_count": 17,
   "id": "8c6d8a17-4b39-41c0-87bc-da105c38f3c4",
   "metadata": {},
   "outputs": [],
   "source": [
    "def play_game():\n",
    "    import re\n",
    "    board = chess_board()\n",
    "    current_turn = 'white'\n",
    "    while True:\n",
    "        print_board(board)\n",
    "\n",
    "        if is_checkmate(board, current_turn):\n",
    "            print(f\"Checkmate! {'White' if current_turn == 'black' else 'Black'} wins!\")\n",
    "            break\n",
    "\n",
    "        player = 'White' if current_turn == 'white' else 'Black'\n",
    "        move_input = input(f\"{player}'s turn. Enter your move (e.g., e2e4): \").strip().lower()\n",
    "\n",
    "        if not re.match(r'^[a-h][1-8][a-h][1-8]$', move_input):\n",
    "            print(\"Invalid move format. Please enter a move in the format 'e2e4'.\")\n",
    "            continue\n",
    "\n",
    "        if not is_valid_move(board, move_input, current_turn):\n",
    "            print(\"Invalid move. Try again.\")\n",
    "            continue\n",
    "\n",
    "        make_move(board, move_input)\n",
    "\n",
    "        current_turn = 'black' if current_turn == 'white' else 'white'\n",
    "\n",
    "    print_board(board)"
   ]
  },
  {
   "cell_type": "markdown",
   "id": "53e202a7-6816-4480-b56f-7c4df80fdb6a",
   "metadata": {},
   "source": [
    "## Playing Game"
   ]
  },
  {
   "cell_type": "code",
   "execution_count": 18,
   "id": "f43bbdc3-892b-4ebc-903b-83f1477f51d8",
   "metadata": {},
   "outputs": [
    {
     "name": "stdout",
     "output_type": "stream",
     "text": [
      "Chess Board:\n",
      "  a b c d e f g h\n",
      "8 r n b q k b n r\n",
      "7 p p p p p p p p\n",
      "6 . . . . . . . .\n",
      "5 . . . . . . . .\n",
      "4 . . . . . . . .\n",
      "3 . . . . . . . .\n",
      "2 P P P P P P P P\n",
      "1 R N B Q K B N R\n"
     ]
    },
    {
     "name": "stdin",
     "output_type": "stream",
     "text": [
      "White's turn. Enter your move (e.g., e2e4):  e2e4\n"
     ]
    },
    {
     "name": "stdout",
     "output_type": "stream",
     "text": [
      "Chess Board:\n",
      "  a b c d e f g h\n",
      "8 r n b q k b n r\n",
      "7 p p p p p p p p\n",
      "6 . . . . . . . .\n",
      "5 . . . . . . . .\n",
      "4 . . . . P . . .\n",
      "3 . . . . . . . .\n",
      "2 P P P P . P P P\n",
      "1 R N B Q K B N R\n"
     ]
    },
    {
     "name": "stdin",
     "output_type": "stream",
     "text": [
      "Black's turn. Enter your move (e.g., e2e4):  b7b6\n"
     ]
    },
    {
     "name": "stdout",
     "output_type": "stream",
     "text": [
      "Chess Board:\n",
      "  a b c d e f g h\n",
      "8 r n b q k b n r\n",
      "7 p . p p p p p p\n",
      "6 . p . . . . . .\n",
      "5 . . . . . . . .\n",
      "4 . . . . P . . .\n",
      "3 . . . . . . . .\n",
      "2 P P P P . P P P\n",
      "1 R N B Q K B N R\n"
     ]
    },
    {
     "name": "stdin",
     "output_type": "stream",
     "text": [
      "White's turn. Enter your move (e.g., e2e4):  e4d5\n"
     ]
    },
    {
     "name": "stdout",
     "output_type": "stream",
     "text": [
      "Invalid move. Try again.\n",
      "Chess Board:\n",
      "  a b c d e f g h\n",
      "8 r n b q k b n r\n",
      "7 p . p p p p p p\n",
      "6 . p . . . . . .\n",
      "5 . . . . . . . .\n",
      "4 . . . . P . . .\n",
      "3 . . . . . . . .\n",
      "2 P P P P . P P P\n",
      "1 R N B Q K B N R\n"
     ]
    },
    {
     "name": "stdin",
     "output_type": "stream",
     "text": [
      "White's turn. Enter your move (e.g., e2e4):  e4e5\n"
     ]
    },
    {
     "name": "stdout",
     "output_type": "stream",
     "text": [
      "Chess Board:\n",
      "  a b c d e f g h\n",
      "8 r n b q k b n r\n",
      "7 p . p p p p p p\n",
      "6 . p . . . . . .\n",
      "5 . . . . P . . .\n",
      "4 . . . . . . . .\n",
      "3 . . . . . . . .\n",
      "2 P P P P . P P P\n",
      "1 R N B Q K B N R\n"
     ]
    },
    {
     "name": "stdin",
     "output_type": "stream",
     "text": [
      "Black's turn. Enter your move (e.g., e2e4):  b8c6\n"
     ]
    },
    {
     "name": "stdout",
     "output_type": "stream",
     "text": [
      "Chess Board:\n",
      "  a b c d e f g h\n",
      "8 r . b q k b n r\n",
      "7 p . p p p p p p\n",
      "6 . p n . . . . .\n",
      "5 . . . . P . . .\n",
      "4 . . . . . . . .\n",
      "3 . . . . . . . .\n",
      "2 P P P P . P P P\n",
      "1 R N B Q K B N R\n"
     ]
    },
    {
     "name": "stdin",
     "output_type": "stream",
     "text": [
      "White's turn. Enter your move (e.g., e2e4):  f1a6\n"
     ]
    },
    {
     "name": "stdout",
     "output_type": "stream",
     "text": [
      "Chess Board:\n",
      "  a b c d e f g h\n",
      "8 r . b q k b n r\n",
      "7 p . p p p p p p\n",
      "6 B p n . . . . .\n",
      "5 . . . . P . . .\n",
      "4 . . . . . . . .\n",
      "3 . . . . . . . .\n",
      "2 P P P P . P P P\n",
      "1 R N B Q K . N R\n"
     ]
    },
    {
     "name": "stdin",
     "output_type": "stream",
     "text": [
      "Black's turn. Enter your move (e.g., e2e4):  c6e5\n"
     ]
    },
    {
     "name": "stdout",
     "output_type": "stream",
     "text": [
      "Captured P at e5\n",
      "Chess Board:\n",
      "  a b c d e f g h\n",
      "8 r . b q k b n r\n",
      "7 p . p p p p p p\n",
      "6 B p . . . . . .\n",
      "5 . . . . n . . .\n",
      "4 . . . . . . . .\n",
      "3 . . . . . . . .\n",
      "2 P P P P . P P P\n",
      "1 R N B Q K . N R\n"
     ]
    },
    {
     "ename": "KeyboardInterrupt",
     "evalue": "Interrupted by user",
     "output_type": "error",
     "traceback": [
      "\u001b[1;31m---------------------------------------------------------------------------\u001b[0m",
      "\u001b[1;31mKeyboardInterrupt\u001b[0m                         Traceback (most recent call last)",
      "Cell \u001b[1;32mIn[18], line 1\u001b[0m\n\u001b[1;32m----> 1\u001b[0m play_game()\n",
      "Cell \u001b[1;32mIn[17], line 13\u001b[0m, in \u001b[0;36mplay_game\u001b[1;34m()\u001b[0m\n\u001b[0;32m     10\u001b[0m     \u001b[38;5;28;01mbreak\u001b[39;00m\n\u001b[0;32m     12\u001b[0m player \u001b[38;5;241m=\u001b[39m \u001b[38;5;124m'\u001b[39m\u001b[38;5;124mWhite\u001b[39m\u001b[38;5;124m'\u001b[39m \u001b[38;5;28;01mif\u001b[39;00m current_turn \u001b[38;5;241m==\u001b[39m \u001b[38;5;124m'\u001b[39m\u001b[38;5;124mwhite\u001b[39m\u001b[38;5;124m'\u001b[39m \u001b[38;5;28;01melse\u001b[39;00m \u001b[38;5;124m'\u001b[39m\u001b[38;5;124mBlack\u001b[39m\u001b[38;5;124m'\u001b[39m\n\u001b[1;32m---> 13\u001b[0m move_input \u001b[38;5;241m=\u001b[39m \u001b[38;5;28minput\u001b[39m(\u001b[38;5;124mf\u001b[39m\u001b[38;5;124m\"\u001b[39m\u001b[38;5;132;01m{\u001b[39;00mplayer\u001b[38;5;132;01m}\u001b[39;00m\u001b[38;5;124m'\u001b[39m\u001b[38;5;124ms turn. Enter your move (e.g., e2e4): \u001b[39m\u001b[38;5;124m\"\u001b[39m)\u001b[38;5;241m.\u001b[39mstrip()\u001b[38;5;241m.\u001b[39mlower()\n\u001b[0;32m     15\u001b[0m \u001b[38;5;28;01mif\u001b[39;00m \u001b[38;5;129;01mnot\u001b[39;00m re\u001b[38;5;241m.\u001b[39mmatch(\u001b[38;5;124mr\u001b[39m\u001b[38;5;124m'\u001b[39m\u001b[38;5;124m^[a-h][1-8][a-h][1-8]$\u001b[39m\u001b[38;5;124m'\u001b[39m, move_input):\n\u001b[0;32m     16\u001b[0m     \u001b[38;5;28mprint\u001b[39m(\u001b[38;5;124m\"\u001b[39m\u001b[38;5;124mInvalid move format. Please enter a move in the format \u001b[39m\u001b[38;5;124m'\u001b[39m\u001b[38;5;124me2e4\u001b[39m\u001b[38;5;124m'\u001b[39m\u001b[38;5;124m.\u001b[39m\u001b[38;5;124m\"\u001b[39m)\n",
      "File \u001b[1;32mE:\\ANACONDA\\Lib\\site-packages\\ipykernel\\kernelbase.py:1262\u001b[0m, in \u001b[0;36mKernel.raw_input\u001b[1;34m(self, prompt)\u001b[0m\n\u001b[0;32m   1260\u001b[0m     msg \u001b[38;5;241m=\u001b[39m \u001b[38;5;124m\"\u001b[39m\u001b[38;5;124mraw_input was called, but this frontend does not support input requests.\u001b[39m\u001b[38;5;124m\"\u001b[39m\n\u001b[0;32m   1261\u001b[0m     \u001b[38;5;28;01mraise\u001b[39;00m StdinNotImplementedError(msg)\n\u001b[1;32m-> 1262\u001b[0m \u001b[38;5;28;01mreturn\u001b[39;00m \u001b[38;5;28mself\u001b[39m\u001b[38;5;241m.\u001b[39m_input_request(\n\u001b[0;32m   1263\u001b[0m     \u001b[38;5;28mstr\u001b[39m(prompt),\n\u001b[0;32m   1264\u001b[0m     \u001b[38;5;28mself\u001b[39m\u001b[38;5;241m.\u001b[39m_parent_ident[\u001b[38;5;124m\"\u001b[39m\u001b[38;5;124mshell\u001b[39m\u001b[38;5;124m\"\u001b[39m],\n\u001b[0;32m   1265\u001b[0m     \u001b[38;5;28mself\u001b[39m\u001b[38;5;241m.\u001b[39mget_parent(\u001b[38;5;124m\"\u001b[39m\u001b[38;5;124mshell\u001b[39m\u001b[38;5;124m\"\u001b[39m),\n\u001b[0;32m   1266\u001b[0m     password\u001b[38;5;241m=\u001b[39m\u001b[38;5;28;01mFalse\u001b[39;00m,\n\u001b[0;32m   1267\u001b[0m )\n",
      "File \u001b[1;32mE:\\ANACONDA\\Lib\\site-packages\\ipykernel\\kernelbase.py:1305\u001b[0m, in \u001b[0;36mKernel._input_request\u001b[1;34m(self, prompt, ident, parent, password)\u001b[0m\n\u001b[0;32m   1302\u001b[0m \u001b[38;5;28;01mexcept\u001b[39;00m \u001b[38;5;167;01mKeyboardInterrupt\u001b[39;00m:\n\u001b[0;32m   1303\u001b[0m     \u001b[38;5;66;03m# re-raise KeyboardInterrupt, to truncate traceback\u001b[39;00m\n\u001b[0;32m   1304\u001b[0m     msg \u001b[38;5;241m=\u001b[39m \u001b[38;5;124m\"\u001b[39m\u001b[38;5;124mInterrupted by user\u001b[39m\u001b[38;5;124m\"\u001b[39m\n\u001b[1;32m-> 1305\u001b[0m     \u001b[38;5;28;01mraise\u001b[39;00m \u001b[38;5;167;01mKeyboardInterrupt\u001b[39;00m(msg) \u001b[38;5;28;01mfrom\u001b[39;00m \u001b[38;5;28;01mNone\u001b[39;00m\n\u001b[0;32m   1306\u001b[0m \u001b[38;5;28;01mexcept\u001b[39;00m \u001b[38;5;167;01mException\u001b[39;00m:\n\u001b[0;32m   1307\u001b[0m     \u001b[38;5;28mself\u001b[39m\u001b[38;5;241m.\u001b[39mlog\u001b[38;5;241m.\u001b[39mwarning(\u001b[38;5;124m\"\u001b[39m\u001b[38;5;124mInvalid Message:\u001b[39m\u001b[38;5;124m\"\u001b[39m, exc_info\u001b[38;5;241m=\u001b[39m\u001b[38;5;28;01mTrue\u001b[39;00m)\n",
      "\u001b[1;31mKeyboardInterrupt\u001b[0m: Interrupted by user"
     ]
    }
   ],
   "source": [
    "play_game()"
   ]
  }
 ],
 "metadata": {
  "kernelspec": {
   "display_name": "Python 3 (ipykernel)",
   "language": "python",
   "name": "python3"
  },
  "language_info": {
   "codemirror_mode": {
    "name": "ipython",
    "version": 3
   },
   "file_extension": ".py",
   "mimetype": "text/x-python",
   "name": "python",
   "nbconvert_exporter": "python",
   "pygments_lexer": "ipython3",
   "version": "3.11.7"
  }
 },
 "nbformat": 4,
 "nbformat_minor": 5
}
